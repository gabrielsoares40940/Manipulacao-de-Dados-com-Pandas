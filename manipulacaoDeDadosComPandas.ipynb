{
  "nbformat": 4,
  "nbformat_minor": 0,
  "metadata": {
    "colab": {
      "provenance": [],
      "include_colab_link": true
    },
    "kernelspec": {
      "name": "python3",
      "display_name": "Python 3"
    },
    "language_info": {
      "name": "python"
    }
  },
  "cells": [
    {
      "cell_type": "markdown",
      "metadata": {
        "id": "view-in-github",
        "colab_type": "text"
      },
      "source": [
        "<a href=\"https://colab.research.google.com/github/gabrielsoares40940/Manipulacao-de-Dados-com-Pandas/blob/main/manipulacaoDeDadosComPandas.ipynb\" target=\"_parent\"><img src=\"https://colab.research.google.com/assets/colab-badge.svg\" alt=\"Open In Colab\"/></a>"
      ]
    },
    {
      "cell_type": "code",
      "execution_count": null,
      "metadata": {
        "id": "PIdHIiaWeL4d"
      },
      "outputs": [],
      "source": [
        "import pandas as pd\n",
        "df = pd.read_excel(r'/content/drive/MyDrive/Colab Notebooks/Tópicos/Vendas.xlsx')"
      ]
    },
    {
      "cell_type": "code",
      "source": [
        "from google.colab import drive\n",
        "drive.mount('/content/drive')"
      ],
      "metadata": {
        "colab": {
          "base_uri": "https://localhost:8080/"
        },
        "id": "qh7MBdvMRO5k",
        "outputId": "8601d926-4212-4a1d-b436-0eb1e58f4e7b"
      },
      "execution_count": null,
      "outputs": [
        {
          "output_type": "stream",
          "name": "stdout",
          "text": [
            "Mounted at /content/drive\n"
          ]
        }
      ]
    },
    {
      "cell_type": "code",
      "source": [
        "df"
      ],
      "metadata": {
        "id": "SrY9ekECfNPC"
      },
      "execution_count": null,
      "outputs": []
    },
    {
      "cell_type": "code",
      "source": [
        "faturamento = df[['ID Loja', 'Valor Final']].groupby('ID Loja').sum()\n",
        "print(faturamento)\n",
        "\n",
        "# Colocar em ordem de maior venda\n",
        "# Quantidade de produtos por loja  \n",
        "# Calcular a média de vendas de cada loja (dos produtos)"
      ],
      "metadata": {
        "id": "kDibw-OUkOtp"
      },
      "execution_count": null,
      "outputs": []
    },
    {
      "cell_type": "code",
      "source": [
        "# Colocar em ordem de maior venda\n",
        "\n",
        "# Produto mais vendido por loja\n",
        "venda = df[['ID Loja', 'Produto', 'Valor Final']].groupby(['ID Loja', 'Produto']).sum().sort_values('Valor Final', ascending = False)\n",
        "print(venda)\n",
        "\n",
        "# Loja que vendeu mais\n",
        "venda2 = df[['ID Loja', 'Valor Final']].groupby(['ID Loja']).sum().sort_values('Valor Final', ascending = False)\n",
        "print(venda2)"
      ],
      "metadata": {
        "id": "zob_E3mE3Gau"
      },
      "execution_count": null,
      "outputs": []
    },
    {
      "cell_type": "code",
      "source": [
        "# Quantidade de produtos por loja\n",
        "lojas = df[['ID Loja', 'Produto', 'Quantidade']].groupby(['ID Loja', 'Produto']).sum()\n",
        "lojas"
      ],
      "metadata": {
        "id": "Nsn4xw2M33VA",
        "colab": {
          "base_uri": "https://localhost:8080/",
          "height": 455
        },
        "outputId": "80cf1b6f-4794-422d-ab4f-33cb8d588166"
      },
      "execution_count": null,
      "outputs": [
        {
          "output_type": "execute_result",
          "data": {
            "text/plain": [
              "                                      Quantidade\n",
              "ID Loja             Produto                     \n",
              "Bourbon Shopping SP Bermuda                 69.0\n",
              "                    Bermuda Estampa         71.0\n",
              "                    Bermuda Linho           61.0\n",
              "                    Bermuda Liso            62.0\n",
              "                    Bermuda Listrado        75.0\n",
              "...                                          ...\n",
              "Shopping Vila Velha Tênis Estampa           66.0\n",
              "                    Tênis Linho             86.0\n",
              "                    Tênis Liso              65.0\n",
              "                    Tênis Listrado          53.0\n",
              "                    Tênis Xadrez            86.0\n",
              "\n",
              "[3000 rows x 1 columns]"
            ],
            "text/html": [
              "\n",
              "  <div id=\"df-91abab75-4597-426f-a242-a6e19f609fa5\">\n",
              "    <div class=\"colab-df-container\">\n",
              "      <div>\n",
              "<style scoped>\n",
              "    .dataframe tbody tr th:only-of-type {\n",
              "        vertical-align: middle;\n",
              "    }\n",
              "\n",
              "    .dataframe tbody tr th {\n",
              "        vertical-align: top;\n",
              "    }\n",
              "\n",
              "    .dataframe thead th {\n",
              "        text-align: right;\n",
              "    }\n",
              "</style>\n",
              "<table border=\"1\" class=\"dataframe\">\n",
              "  <thead>\n",
              "    <tr style=\"text-align: right;\">\n",
              "      <th></th>\n",
              "      <th></th>\n",
              "      <th>Quantidade</th>\n",
              "    </tr>\n",
              "    <tr>\n",
              "      <th>ID Loja</th>\n",
              "      <th>Produto</th>\n",
              "      <th></th>\n",
              "    </tr>\n",
              "  </thead>\n",
              "  <tbody>\n",
              "    <tr>\n",
              "      <th rowspan=\"5\" valign=\"top\">Bourbon Shopping SP</th>\n",
              "      <th>Bermuda</th>\n",
              "      <td>69.0</td>\n",
              "    </tr>\n",
              "    <tr>\n",
              "      <th>Bermuda Estampa</th>\n",
              "      <td>71.0</td>\n",
              "    </tr>\n",
              "    <tr>\n",
              "      <th>Bermuda Linho</th>\n",
              "      <td>61.0</td>\n",
              "    </tr>\n",
              "    <tr>\n",
              "      <th>Bermuda Liso</th>\n",
              "      <td>62.0</td>\n",
              "    </tr>\n",
              "    <tr>\n",
              "      <th>Bermuda Listrado</th>\n",
              "      <td>75.0</td>\n",
              "    </tr>\n",
              "    <tr>\n",
              "      <th>...</th>\n",
              "      <th>...</th>\n",
              "      <td>...</td>\n",
              "    </tr>\n",
              "    <tr>\n",
              "      <th rowspan=\"5\" valign=\"top\">Shopping Vila Velha</th>\n",
              "      <th>Tênis Estampa</th>\n",
              "      <td>66.0</td>\n",
              "    </tr>\n",
              "    <tr>\n",
              "      <th>Tênis Linho</th>\n",
              "      <td>86.0</td>\n",
              "    </tr>\n",
              "    <tr>\n",
              "      <th>Tênis Liso</th>\n",
              "      <td>65.0</td>\n",
              "    </tr>\n",
              "    <tr>\n",
              "      <th>Tênis Listrado</th>\n",
              "      <td>53.0</td>\n",
              "    </tr>\n",
              "    <tr>\n",
              "      <th>Tênis Xadrez</th>\n",
              "      <td>86.0</td>\n",
              "    </tr>\n",
              "  </tbody>\n",
              "</table>\n",
              "<p>3000 rows × 1 columns</p>\n",
              "</div>\n",
              "      <button class=\"colab-df-convert\" onclick=\"convertToInteractive('df-91abab75-4597-426f-a242-a6e19f609fa5')\"\n",
              "              title=\"Convert this dataframe to an interactive table.\"\n",
              "              style=\"display:none;\">\n",
              "        \n",
              "  <svg xmlns=\"http://www.w3.org/2000/svg\" height=\"24px\"viewBox=\"0 0 24 24\"\n",
              "       width=\"24px\">\n",
              "    <path d=\"M0 0h24v24H0V0z\" fill=\"none\"/>\n",
              "    <path d=\"M18.56 5.44l.94 2.06.94-2.06 2.06-.94-2.06-.94-.94-2.06-.94 2.06-2.06.94zm-11 1L8.5 8.5l.94-2.06 2.06-.94-2.06-.94L8.5 2.5l-.94 2.06-2.06.94zm10 10l.94 2.06.94-2.06 2.06-.94-2.06-.94-.94-2.06-.94 2.06-2.06.94z\"/><path d=\"M17.41 7.96l-1.37-1.37c-.4-.4-.92-.59-1.43-.59-.52 0-1.04.2-1.43.59L10.3 9.45l-7.72 7.72c-.78.78-.78 2.05 0 2.83L4 21.41c.39.39.9.59 1.41.59.51 0 1.02-.2 1.41-.59l7.78-7.78 2.81-2.81c.8-.78.8-2.07 0-2.86zM5.41 20L4 18.59l7.72-7.72 1.47 1.35L5.41 20z\"/>\n",
              "  </svg>\n",
              "      </button>\n",
              "      \n",
              "  <style>\n",
              "    .colab-df-container {\n",
              "      display:flex;\n",
              "      flex-wrap:wrap;\n",
              "      gap: 12px;\n",
              "    }\n",
              "\n",
              "    .colab-df-convert {\n",
              "      background-color: #E8F0FE;\n",
              "      border: none;\n",
              "      border-radius: 50%;\n",
              "      cursor: pointer;\n",
              "      display: none;\n",
              "      fill: #1967D2;\n",
              "      height: 32px;\n",
              "      padding: 0 0 0 0;\n",
              "      width: 32px;\n",
              "    }\n",
              "\n",
              "    .colab-df-convert:hover {\n",
              "      background-color: #E2EBFA;\n",
              "      box-shadow: 0px 1px 2px rgba(60, 64, 67, 0.3), 0px 1px 3px 1px rgba(60, 64, 67, 0.15);\n",
              "      fill: #174EA6;\n",
              "    }\n",
              "\n",
              "    [theme=dark] .colab-df-convert {\n",
              "      background-color: #3B4455;\n",
              "      fill: #D2E3FC;\n",
              "    }\n",
              "\n",
              "    [theme=dark] .colab-df-convert:hover {\n",
              "      background-color: #434B5C;\n",
              "      box-shadow: 0px 1px 3px 1px rgba(0, 0, 0, 0.15);\n",
              "      filter: drop-shadow(0px 1px 2px rgba(0, 0, 0, 0.3));\n",
              "      fill: #FFFFFF;\n",
              "    }\n",
              "  </style>\n",
              "\n",
              "      <script>\n",
              "        const buttonEl =\n",
              "          document.querySelector('#df-91abab75-4597-426f-a242-a6e19f609fa5 button.colab-df-convert');\n",
              "        buttonEl.style.display =\n",
              "          google.colab.kernel.accessAllowed ? 'block' : 'none';\n",
              "\n",
              "        async function convertToInteractive(key) {\n",
              "          const element = document.querySelector('#df-91abab75-4597-426f-a242-a6e19f609fa5');\n",
              "          const dataTable =\n",
              "            await google.colab.kernel.invokeFunction('convertToInteractive',\n",
              "                                                     [key], {});\n",
              "          if (!dataTable) return;\n",
              "\n",
              "          const docLinkHtml = 'Like what you see? Visit the ' +\n",
              "            '<a target=\"_blank\" href=https://colab.research.google.com/notebooks/data_table.ipynb>data table notebook</a>'\n",
              "            + ' to learn more about interactive tables.';\n",
              "          element.innerHTML = '';\n",
              "          dataTable['output_type'] = 'display_data';\n",
              "          await google.colab.output.renderOutput(dataTable, element);\n",
              "          const docLink = document.createElement('div');\n",
              "          docLink.innerHTML = docLinkHtml;\n",
              "          element.appendChild(docLink);\n",
              "        }\n",
              "      </script>\n",
              "    </div>\n",
              "  </div>\n",
              "  "
            ]
          },
          "metadata": {},
          "execution_count": 12
        }
      ]
    },
    {
      "cell_type": "code",
      "source": [
        "# Calcular a média de vendas de cada loja\n",
        "\n",
        "# Calcular a soma das quantidades de todos os produtos e dividir pela quantidade de produtos (para cada loja) \n",
        "# media = list(df[['ID Loja', 'Produto', 'Valor Final']].groupby(['Valor Final', 'Produto']))\n",
        "\n",
        "#Média de vendas de cada loja (Valor Unitário)\n",
        "media = df[['Valor Unitário', 'ID Loja']].groupby('ID Loja').agg('mean')\n",
        "media"
      ],
      "metadata": {
        "id": "RTrj4m3IQS3B"
      },
      "execution_count": null,
      "outputs": []
    },
    {
      "cell_type": "code",
      "source": [
        "# RESOLUÇÃO DA OTÍLIA\n",
        "\n",
        "# Rankear as vendas por loja\n",
        "faturamento2 = faturamento.sort_values(by = 'Valor Final', ascending = False)\n",
        "faturamento2"
      ],
      "metadata": {
        "id": "1jJZ9EPXTh-L"
      },
      "execution_count": null,
      "outputs": []
    },
    {
      "cell_type": "code",
      "source": [
        "# Quantidade vendida por loja\n",
        "quantidade2 = df[['ID Loja', 'Quantidade']].groupby('ID Loja').sum()\n",
        "quantidade2 = quantidade2.sort_values(by = 'ID Loja', ascending = False)\n",
        "quantidade2"
      ],
      "metadata": {
        "id": "3rh_fXSBTmZI"
      },
      "execution_count": null,
      "outputs": []
    },
    {
      "cell_type": "code",
      "source": [
        "# Ticket médio dos produtos por loja\n",
        "# Faturamento por loja / Quantidade vendida por loja\n",
        "ticket_medio= (faturamento2['Valor Final'] / quantidade2['Quantidade']).to_frame()\n",
        "\n",
        "# Outra forma que se pode mudar o nome da coluna:\n",
        "# ticket_medio = ticket_medio.rename(columns={0: 'Ticket Médio'})\n",
        "ticket_medio"
      ],
      "metadata": {
        "id": "hRxwhKQ5UGrK"
      },
      "execution_count": null,
      "outputs": []
    },
    {
      "cell_type": "code",
      "source": [
        "# Criar uma função de enviar e-mail\n",
        "import smtplib \n",
        "import email.message\n",
        "senha ='INSERT_PASSWORD_HERE'"
      ],
      "metadata": {
        "id": "FCX1d7ShX0wu"
      },
      "execution_count": null,
      "outputs": []
    },
    {
      "cell_type": "code",
      "source": [],
      "metadata": {
        "id": "giR_Kq3Si06d"
      },
      "execution_count": null,
      "outputs": []
    },
    {
      "cell_type": "code",
      "source": [
        "# Função para enviar a mensagem pelo e-mail\n",
        "def enviar_email(resumo_loja, loja):\n",
        "  server = smtplib.SMTP('smtp.gmail.com:587') # :587 é a porta para enviar o e-mail\n",
        "  email_content = f'''\n",
        "  <p>Coe Silva,</p>\n",
        "  {resumo_loja.to_html()}\n",
        "  <p>Tmj</p>'''\n",
        "\n",
        "  msg = email.message.Message()\n",
        "  msg['Subject'] = f'Silva Rule - Loja: {loja}'\n",
        "\n",
        "  # Enviar mensagem DO e-mail PARA outro e-mail\n",
        "  msg['From'] = 'gabrielsoares40940@gmail.com'\n",
        "  msg['To'] = 'gustavogusoares14@gmail.com'\n",
        "  password = senha\n",
        "  msg.add_header('Content-Type', 'text/html')\n",
        "  msg.set_payload(email_content)\n",
        "\n",
        "  s = smtplib.SMTP('smtp.gmail.com:587')\n",
        "  s.starttls()\n",
        "  #login - acessos\n",
        "  s.login(msg['From'], password)\n",
        "  s.sendemail(msg['From'], [msg['To']], msg.as_string().encode('utf-8'))\n",
        "\n",
        "email = enviar_email()"
      ],
      "metadata": {
        "id": "w4EReQCHYl75"
      },
      "execution_count": null,
      "outputs": []
    },
    {
      "cell_type": "code",
      "source": [
        "'''ATIVIDADE'''\n",
        "\n",
        "# Criar relatório por loja\n",
        "loja = df['ID Loja'].unique()\n",
        "loja\n",
        "\n",
        "# Utilizando um FOR com a informação acima, listar ID Loja | Valor Final | Quantidade | Ticket Médio\n",
        "# DICA: Utilizar groupby(), sum()\n",
        "''' Exemplo:\n",
        "ID Loja  | Valor Final | Quantidade | Ticket Médio\n",
        "Iguatemi |   1699651   |    8535    |     200\n",
        "'''"
      ],
      "metadata": {
        "colab": {
          "base_uri": "https://localhost:8080/",
          "height": 35
        },
        "id": "4HVinKiBkhal",
        "outputId": "2faec48f-b36c-45dc-830d-5c6ecda2de2d"
      },
      "execution_count": null,
      "outputs": [
        {
          "output_type": "execute_result",
          "data": {
            "text/plain": [
              "' Exemplo:\\nID Loja  | Valor Final | Quantidade | Ticket Médio\\nIguatemi |   1699651   |    8535    |     200\\n'"
            ],
            "application/vnd.google.colaboratory.intrinsic+json": {
              "type": "string"
            }
          },
          "metadata": {},
          "execution_count": 54
        }
      ]
    }
  ]
}